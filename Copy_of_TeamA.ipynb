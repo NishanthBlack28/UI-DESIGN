{
  "nbformat": 4,
  "nbformat_minor": 0,
  "metadata": {
    "colab": {
      "provenance": [],
      "authorship_tag": "ABX9TyMlxdFs4MD4T9eQ2ekGGx3R",
      "include_colab_link": true
    },
    "kernelspec": {
      "name": "python3",
      "display_name": "Python 3"
    },
    "language_info": {
      "name": "python"
    }
  },
  "cells": [
    {
      "cell_type": "markdown",
      "metadata": {
        "id": "view-in-github",
        "colab_type": "text"
      },
      "source": [
        "<a href=\"https://colab.research.google.com/github/NishanthBlack28/UI-DESIGN/blob/main/Copy_of_TeamA.ipynb\" target=\"_parent\"><img src=\"https://colab.research.google.com/assets/colab-badge.svg\" alt=\"Open In Colab\"/></a>"
      ]
    },
    {
      "cell_type": "markdown",
      "source": [
        "The task was completed as a team. The team members are Nishanth P, Ajay Kumar S, and Ragu Ram M."
      ],
      "metadata": {
        "id": "mdp4RajnNdnJ"
      }
    },
    {
      "cell_type": "code",
      "source": [],
      "metadata": {
        "id": "lhBtiQwlTWt-"
      },
      "execution_count": null,
      "outputs": []
    },
    {
      "cell_type": "code",
      "source": [
        "def main():\n",
        "  try:\n",
        "    i_d = int(input(\"Enter ID: \"))\n",
        "    s_d = int(input(\"Enter Start Date: \"))\n",
        "    e_d = int(input(\"Enter End Date: \"))\n",
        "    roll = input(\"Enter the Roll: \")\n",
        "    gra = input(\"Enter a Grade: \")\n",
        "    loca = input(\"Enter a location: \")\n",
        "    ten = int(input(\"Enter tenure: \"))\n",
        "    gen = input(\"Enter Gender: \")\n",
        "    edu = input(\"Enter Education: \")\n",
        "    age = int(input(\"Enter Age: \"))\n",
        "    rating = int(input(\"Enter Last Rating: \"))\n",
        "    m_in = int(input(\"Enter Montly Income: \"))\n",
        "    e_s = int(input(\"Enter Engagement sorce: \"))\n",
        "    mat = input(\"Enter Mairtal Status: \")\n",
        "    zone = input(\"Enter Zone: \")\n",
        "    remarks = input(\"Enter Remark: \")\n",
        "\n",
        "    print(\"\\n\\nID:\", i_d)\n",
        "    print(\"Start Date:\", s_d)\n",
        "    print(\"End Date:\", e_d)\n",
        "    print(\"Roll:\", roll)\n",
        "    print(\"Grade:\", gra)\n",
        "    print(\"Location:\", loca)\n",
        "    print(\"Tenure:\", ten)\n",
        "    print(\"Gender:\", gen)\n",
        "    print(\"Education:\", edu)\n",
        "    print(\"Age:\", age)\n",
        "    print(\"Last Rating:\", rating)\n",
        "    print(\"Monthly Income:\", m_in)\n",
        "    print(\"Engagement sorce:\", e_s)\n",
        "    print(\"Mairtal Status:\", mat)\n",
        "    print(\"Zone:\", zone)\n",
        "    print(\"Remark:\", remarks)\n",
        "  except ValueError:\n",
        "    print(\"Invalid input. Please enter a valid integer.\")\n",
        "\n",
        "if __name__ == \"__main__\":\n",
        "  main()"
      ],
      "metadata": {
        "colab": {
          "base_uri": "https://localhost:8080/"
        },
        "id": "EKkmmxt9NfOz",
        "outputId": "2bda006d-a2e1-4121-fb0b-a6f8294d8fc8"
      },
      "execution_count": null,
      "outputs": [
        {
          "output_type": "stream",
          "name": "stdout",
          "text": [
            "Enter ID: 12345\n",
            "Enter Start Date: 20120508\n",
            "Enter End Date: 20150808\n",
            "Enter the Roll: Sales\n",
            "Enter a Grade: B\n",
            "Enter a location: New York \n",
            "Enter tenure: 5\n",
            "Enter Gender: Male\n",
            "Enter Education: Master's \n",
            "Enter Age: 30\n",
            "Enter Last Rating: 4\n",
            "Enter Montly Income: 10000\n",
            "Enter Engagement sorce: 74\n",
            "Enter Mairtal Status: Married \n",
            "Enter Zone: US\n",
            "Enter Remark: Good Employee \n",
            "\n",
            "\n",
            "ID: 12345\n",
            "Start Date: 20120508\n",
            "End Date: 20150808\n",
            "Roll: Sales\n",
            "Grade: B\n",
            "Location: New York \n",
            "Tenure: 5\n",
            "Gender: Male\n",
            "Education: Master's \n",
            "Age: 30\n",
            "Last Rating: 4\n",
            "Monthly Income: 10000\n",
            "Engagement sorce: 74\n",
            "Mairtal Status: Married \n",
            "Zone: US\n",
            "Remark: Good Employee \n"
          ]
        }
      ]
    }
  ]
}